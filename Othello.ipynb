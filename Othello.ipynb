{
  "nbformat": 4,
  "nbformat_minor": 0,
  "metadata": {
    "colab": {
      "name": "Othello.ipynb",
      "provenance": [],
      "authorship_tag": "ABX9TyOVWff6f1k4kssLmJIWE10h",
      "include_colab_link": true
    },
    "kernelspec": {
      "name": "python3",
      "display_name": "Python 3"
    },
    "accelerator": "GPU"
  },
  "cells": [
    {
      "cell_type": "markdown",
      "metadata": {
        "id": "view-in-github",
        "colab_type": "text"
      },
      "source": [
        "<a href=\"https://colab.research.google.com/github/tsor13/OthelloRL/blob/master/Othello.ipynb\" target=\"_parent\"><img src=\"https://colab.research.google.com/assets/colab-badge.svg\" alt=\"Open In Colab\"/></a>"
      ]
    },
    {
      "cell_type": "code",
      "metadata": {
        "id": "twed6NKlzzrJ",
        "colab_type": "code",
        "colab": {}
      },
      "source": [
        "# IMPORTS\n",
        "import torch\n",
        "import numpy as np\n",
        "from torch import nn, optim\n",
        "from torch.utils.data import DataLoader, Dataset\n",
        "from copy import deepcopy\n",
        "from tqdm import tqdm\n",
        "import pdb\n",
        "from matplotlib import pyplot as plt\n",
        "from torch.nn import functional as F\n",
        "from math import sqrt, exp\n",
        "import time\n",
        "import os"
      ],
      "execution_count": 0,
      "outputs": []
    },
    {
      "cell_type": "code",
      "metadata": {
        "id": "2GZ0T6afdDVu",
        "colab_type": "code",
        "outputId": "31630102-09c5-42b7-f2ea-f9e68807a69a",
        "colab": {
          "base_uri": "https://localhost:8080/",
          "height": 122
        }
      },
      "source": [
        "# connect to drive\n",
        "from google.colab import drive\n",
        "drive.mount('/content/gdrive')\n",
        "root_path = 'gdrive/My Drive/OthelloData/'"
      ],
      "execution_count": 0,
      "outputs": [
        {
          "output_type": "stream",
          "text": [
            "\rloss:9.094: 100%|██████████| 3920/3920 [03:16<00:00, 19.09it/s]"
          ],
          "name": "stderr"
        },
        {
          "output_type": "stream",
          "text": [
            "Go to this URL in a browser: https://accounts.google.com/o/oauth2/auth?client_id=947318989803-6bn6qk8qdgf4n4g3pfee6491hc0brc4i.apps.googleusercontent.com&redirect_uri=urn%3aietf%3awg%3aoauth%3a2.0%3aoob&response_type=code&scope=email%20https%3a%2f%2fwww.googleapis.com%2fauth%2fdocs.test%20https%3a%2f%2fwww.googleapis.com%2fauth%2fdrive%20https%3a%2f%2fwww.googleapis.com%2fauth%2fdrive.photos.readonly%20https%3a%2f%2fwww.googleapis.com%2fauth%2fpeopleapi.readonly\n",
            "\n",
            "Enter your authorization code:\n",
            "··········\n",
            "Mounted at /content/gdrive\n"
          ],
          "name": "stdout"
        }
      ]
    },
    {
      "cell_type": "code",
      "metadata": {
        "id": "S6oORSZR0GXW",
        "colab_type": "code",
        "colab": {}
      },
      "source": [
        "# PARAMS\n",
        "device = 'cuda'"
      ],
      "execution_count": 0,
      "outputs": []
    },
    {
      "cell_type": "code",
      "metadata": {
        "id": "ek2DTeso0MJM",
        "colab_type": "code",
        "colab": {}
      },
      "source": [
        "# othello.py\n",
        "def hash_board(s):\n",
        "    return hash(str(s))\n",
        "\n",
        "def start_board():\n",
        "    # 0 for unused, 1 for black, 2 for white\n",
        "    board = np.zeros((8, 8), dtype=np.int64)\n",
        "    # initial layout\n",
        "    board[3,3] = 1\n",
        "    board[3,4] = 2\n",
        "    board[4,3] = 2\n",
        "    board[4,4] = 1\n",
        "    # black starts\n",
        "    turn = 1\n",
        "    return board, turn\n",
        "\n",
        "def tiles_to_flip(board, turn, x, y):\n",
        "    ''' Return a list of tiles that would be flipped if given piece was placed at location'''\n",
        "    tiles = [(x, y)]\n",
        "\n",
        "    if board[x,y] != 0:\n",
        "        return tiles\n",
        "\n",
        "    def in_bounds(i, j):\n",
        "        return not (i < 0 or j < 0 or i >= 8 or j >= 8)\n",
        "\n",
        "    # define search directions\n",
        "    directions = [[0, 1], [1, 1], [1, 0], [1, -1], [0, -1], [-1, -1], [-1, 0], [-1, 1]]\n",
        "    # look in each direction\n",
        "    for x_d, y_d in directions:\n",
        "        potentials = []\n",
        "        i, j = x, y\n",
        "        done = False\n",
        "        while not done:\n",
        "            i, j = i+x_d, j+y_d\n",
        "            # if out of bounds, never hits own piece\n",
        "            if not in_bounds(i, j):\n",
        "                done = True\n",
        "            # if hits empty slot, return\n",
        "            elif board[i, j] == 0:\n",
        "                done = True\n",
        "            # if we hit current piece, extend\n",
        "            elif board[i, j] == turn:\n",
        "                tiles.extend(potentials)\n",
        "                done = True\n",
        "            # else, opponents piece and it can potentially be flipped\n",
        "            else:\n",
        "                potentials.append((i, j))\n",
        "    return tiles\n",
        "\n",
        "def legal_moves(board, turn):\n",
        "    moves = []\n",
        "    # if game end\n",
        "    if turn <= 0:\n",
        "        return moves\n",
        "    for i in range(8):\n",
        "        for j in range(8):\n",
        "            # if it would flip tiles over, then legal\n",
        "            if len(tiles_to_flip(board, turn, i, j)) != 1:\n",
        "                moves.append((i,j))\n",
        "    return moves\n",
        "\n",
        "def flip_turn(turn):\n",
        "    if turn == 1:\n",
        "        return 2\n",
        "    elif turn == 2:\n",
        "        return 1\n",
        "\n",
        "def move(board, turn, i, j):\n",
        "    flip = tiles_to_flip(board, turn, i, j)\n",
        "    assert len(flip) != 1, 'Illegal move'\n",
        "    board = deepcopy(board)\n",
        "    # flip tiles\n",
        "    for r, c in flip:\n",
        "        board[r, c] = turn\n",
        "\n",
        "    turn = flip_turn(turn)\n",
        "    # if no legal moves, flip\n",
        "    if len(legal_moves(board, turn)) == 0:\n",
        "        turn = flip_turn(turn)\n",
        "        # if still no legal moves, end game\n",
        "        if len(legal_moves(board, turn)) == 0:\n",
        "            turn = 0\n",
        "    return board, turn\n",
        "\n",
        "def make_current_black(board, turn):\n",
        "    if turn == 2:\n",
        "        board = deepcopy(board)\n",
        "        board[board == 1], board[board == 2] = -2, -1\n",
        "        board[board == -1], board[board == -2] = 1, 2\n",
        "        turn = 1\n",
        "    return board, turn\n",
        "\n",
        "def get_reward(board, player):\n",
        "    # assert (board == 0).sum() == 0, 'Reward called when game not done'\n",
        "    player_count = (board == player).sum()\n",
        "    opponent = 1 if player == 2 else 2\n",
        "    opponent_count = (board == opponent).sum()\n",
        "    if player_count > opponent_count:\n",
        "        return 1\n",
        "    elif player_count < opponent_count:\n",
        "        return -1\n",
        "    else:\n",
        "        return 0\n",
        "\n",
        "def get_rewards(board):\n",
        "    black = (board == 1).sum()\n",
        "    white = (board == 2).sum()\n",
        "    if black > white:\n",
        "        return 1, 0\n",
        "    elif black < white:\n",
        "        return 0, 1\n",
        "    elif black == white:\n",
        "        return .5, .5"
      ],
      "execution_count": 0,
      "outputs": []
    },
    {
      "cell_type": "code",
      "metadata": {
        "id": "18sKYQEl0T9W",
        "colab_type": "code",
        "colab": {}
      },
      "source": [
        "# helper.py\n",
        "def tensor_from_board(board, actions):\n",
        "    board = torch.Tensor(board).to(device).unsqueeze(0)\n",
        "    W, B, A = (board == 1).float(), (board == 2).float(), torch.zeros(board.shape)\n",
        "    W, B, A = W.to(device), B.to(device), A.to(device)\n",
        "    x =  torch.cat([W, B, A])\n",
        "    x = x.float()\n",
        "    for i, j in actions:\n",
        "        x[2,i,j] = 1\n",
        "    return x\n",
        "\n",
        "def get_objectives(nodes, boards, actions, min_count):\n",
        "    # policy = normalized counts\n",
        "    # value = mean value\n",
        "    X, P, V = [], [], []\n",
        "    for key, board in boards.items():\n",
        "        total_n = 0\n",
        "        total_value = 0\n",
        "        if key in actions:\n",
        "            for a in actions[key]:\n",
        "                N, W, _, _ = nodes[key, a]\n",
        "                total_n += N\n",
        "                total_value += W\n",
        "            v = total_value / total_n\n",
        "            p = np.zeros(board.shape)\n",
        "            for a in actions[key]:\n",
        "                N, _, _, _ = nodes[key, a]\n",
        "                i, j = a\n",
        "                p[i,j] = N / total_n\n",
        "            # get tensor\n",
        "            x = tensor_from_board(board, actions[key])\n",
        "            x = x.cpu().detach().numpy()\n",
        "            # add to arrays\n",
        "            if total_n > min_count:\n",
        "                X.append(x)\n",
        "                V.append(v)\n",
        "                P.append(p)\n",
        "    return X, P, V\n",
        "\n",
        "def augment(X, P, V):\n",
        "    # horizontal flip, vertical flip, transpose\n",
        "    # these can all be transposed with eachother\n",
        "    X_, V_, P_ = [], [], []\n",
        "    def horizontal_flip(x, v, p):\n",
        "        return x[:,::-1], v, p[::-1]\n",
        "    def vertical_flip(x, v, p):\n",
        "        return x[:,:,::-1], v, p[:,::-1]\n",
        "    def transpose(x, v, p):\n",
        "        # TODO correct?\n",
        "        return np.transpose(x, (0,2,1)), v, p.T\n",
        "    def add(x, v, p):\n",
        "        X_.append(x)\n",
        "        V_.append(v)\n",
        "        P_.append(p)\n",
        "    for obs in zip(X, V, P):\n",
        "        add(*horizontal_flip(*obs))\n",
        "        add(*vertical_flip(*obs))\n",
        "        add(*transpose(*obs))\n",
        "        add(*obs)\n",
        "    return X_, P_, V_"
      ],
      "execution_count": 0,
      "outputs": []
    },
    {
      "cell_type": "code",
      "metadata": {
        "id": "M8tBws5I0d4y",
        "colab_type": "code",
        "colab": {}
      },
      "source": [
        "# OthelloZero.py\n",
        "class ResBlock(nn.Module):\n",
        "    def __init__(self, channels):\n",
        "        super(ResBlock, self).__init__()\n",
        "        self.conv1 = nn.Conv2d(in_channels = channels,\n",
        "                               out_channels = channels,\n",
        "                               kernel_size = 3,\n",
        "                               padding = 1)\n",
        "        self.relu1 = nn.ReLU()\n",
        "        # TODO right here?\n",
        "        self.batchnorm1 = nn.BatchNorm2d(channels)\n",
        "        self.conv2 = nn.Conv2d(in_channels = channels,\n",
        "                               out_channels = channels,\n",
        "                               kernel_size = 3,\n",
        "                               padding = 1)\n",
        "        self.batchnorm2 = nn.BatchNorm2d(channels)\n",
        "        self.relu2 = nn.ReLU()\n",
        "\n",
        "    def forward(self, x):\n",
        "        d = self.conv1(x)\n",
        "        d = self.batchnorm1(d)\n",
        "        d = self.relu1(d)\n",
        "        d = self.conv2(d)\n",
        "        d = self.batchnorm2(d)\n",
        "        # skip connection\n",
        "        x = x + d\n",
        "        x = self.relu2(x)\n",
        "        return x\n",
        "\n",
        "class PolicyHead(nn.Module):\n",
        "    def __init__(self, in_channels):\n",
        "        super(PolicyHead, self).__init__()\n",
        "        self.conv = nn.Conv2d(in_channels = in_channels,\n",
        "                              out_channels = 2,\n",
        "                              kernel_size = 1)\n",
        "        self.batchnorm = nn.BatchNorm2d(2)\n",
        "        self.relu = nn.ReLU()\n",
        "        self.fc = nn.Linear(8*8*2, 8*8)\n",
        "\n",
        "        # initialize linear layer to almost zeros, all policies equal initially\n",
        "        epsilon = 1e-3\n",
        "        nn.init.uniform_(self.fc.weight, -epsilon, epsilon)\n",
        "        nn.init.uniform_(self.fc.bias, -epsilon, epsilon)\n",
        "        # nn.init.zeros_(self.fc.weight)\n",
        "        # nn.init.zeros_(self.fc.bias)\n",
        "\n",
        "    def forward(self, x, possible):\n",
        "        x = self.conv(x)\n",
        "        x = self.batchnorm(x)\n",
        "        x = self.relu(x)\n",
        "        x = x.reshape(-1, 8*8*2)\n",
        "        x = self.fc(x)\n",
        "        x = x.reshape(-1, 8*8)\n",
        "        # exp\n",
        "        x = torch.exp(x)\n",
        "        # restrict to possible moves\n",
        "        x = x.reshape(-1, 8, 8)\n",
        "        # mask so only possible moves\n",
        "        x = x * possible\n",
        "        # softmax so true probabilities\n",
        "        x = x / x.sum()\n",
        "        return x\n",
        "\n",
        "class ValueHead(nn.Module):\n",
        "    def __init__(self, in_channels, hidden_size=64):\n",
        "        super(ValueHead, self).__init__()\n",
        "        self.conv = nn.Conv2d(in_channels = in_channels,\n",
        "                              out_channels = 1,\n",
        "                              kernel_size = 1)\n",
        "        self.batchnorm = nn.BatchNorm2d(1)\n",
        "        self.relu1 = nn.ReLU()\n",
        "        self.fcc1 = nn.Linear(8*8, hidden_size)\n",
        "        self.relu2 = nn.ReLU()\n",
        "        self.fcc2 = nn.Linear(hidden_size, 1)\n",
        "        self.tanh = nn.Tanh()\n",
        "\n",
        "    def forward(self, x):\n",
        "        x = self.conv(x)\n",
        "        x = self.batchnorm(x)\n",
        "        x = self.relu1(x)\n",
        "        x = x.reshape(-1, 64)\n",
        "        x = self.fcc1(x)\n",
        "        x = self.relu2(x)\n",
        "        x = self.fcc2(x)\n",
        "        x = self.tanh(x)\n",
        "        return x\n",
        "\n",
        "class OthelloZero(nn.Module):\n",
        "    def __init__(self, res_layers = 40, channels = 500, in_channels = 2, hidden_size = 64):\n",
        "        super(OthelloZero, self).__init__()\n",
        "        self.convlayer = nn.Sequential(\n",
        "            nn.Conv2d(in_channels = in_channels,\n",
        "                      out_channels = channels,\n",
        "                      kernel_size = 3,\n",
        "                      padding = 1),\n",
        "            # nn.BatchNorm2d(channels),\n",
        "            nn.ReLU()\n",
        "        )\n",
        "        self.res_blocks = nn.ModuleList([ResBlock(channels) for i in range(res_layers)])\n",
        "        self.policy_head = PolicyHead(channels)\n",
        "        self.value_head = ValueHead(channels, hidden_size)\n",
        "\n",
        "    def forward(self, x, turn = 1):\n",
        "        # split board and possible actions\n",
        "        x, possible = x[:,:2], x[:,2]\n",
        "\n",
        "        # switch turn so current is black\n",
        "        # TODO - works?\n",
        "        if turn == 2:\n",
        "            black, white = deepcopy(x[:,0]), deepcopy(x[:,1])\n",
        "            x[:,0], x[:,1] = white, black\n",
        "\n",
        "        x = self.convlayer(x)\n",
        "        for block in self.res_blocks:\n",
        "            x = block(x)\n",
        "        p = self.policy_head(x, possible)\n",
        "        v = self.value_head(x)\n",
        "        return p, v"
      ],
      "execution_count": 0,
      "outputs": []
    },
    {
      "cell_type": "code",
      "metadata": {
        "id": "V73_D8KD0mHE",
        "colab_type": "code",
        "colab": {}
      },
      "source": [
        "# arena.py\n",
        "def compete(model1, model2, games):\n",
        "    model1.eval()\n",
        "    model2.eval()\n",
        "    wins1, wins2 = 0, 0\n",
        "    player1, player2 = 1, 2\n",
        "    loop = tqdm(total = games, position=0, leave=False)\n",
        "    for game in range(games):\n",
        "        board, turn = start_board()\n",
        "        # until game end\n",
        "        while turn != 0:\n",
        "            # x = tensor_from_board(board, legal_moves(board, turn))\n",
        "            # x = x.unsqueeze(0)\n",
        "            # if turn == player1:\n",
        "            #     p, v = model1(x, player1)\n",
        "            # elif turn == player2:\n",
        "            #     p, v = model2(x, player2)\n",
        "            # # change later to do tree search, for now just do by prob\n",
        "            # p = p.cpu().detach().numpy()\n",
        "            # p = p.reshape(-1)\n",
        "            # choice = np.random.choice(64, 1, p=p)[0]\n",
        "            # # TODO - probably wrong\n",
        "            # i, j = choice // 8, choice % 8\n",
        "            if turn == player1:\n",
        "                i, j = MCTS_action(model1, (board, player1))\n",
        "            elif turn == player2:\n",
        "                i, j = MCTS_action(model2, (board, player2))\n",
        "            board, turn = move(board, turn, i, j)\n",
        "\n",
        "        black_reward, white_reward = get_rewards(board)\n",
        "        if player1 == 1 and player2 == 2:\n",
        "            wins1 += black_reward\n",
        "            wins2 += white_reward\n",
        "        elif player1 == 2 and player2 == 1:\n",
        "            wins1 += white_reward\n",
        "            wins2 += black_reward\n",
        "        # every other game, switch starting player\n",
        "        player1, player2 = player2, player1\n",
        "        loop.update(1)\n",
        "        loop.set_description('perc:{:.3f}'.format(wins1/(wins1+wins2)))\n",
        "\n",
        "    return wins1/(wins1+wins2)\n",
        "\n",
        "# if __name__ == '__main__':\n",
        "#     model1 = OthelloZero(res_layers=4, channels=10)\n",
        "#     model2 = OthelloZero(res_layers=4, channels=10)\n",
        "#     model1, model2 = model1.to(device), model2.to(device)\n",
        "#     perc = compete(model1, model1, games=100)\n",
        "#     print(perc)"
      ],
      "execution_count": 0,
      "outputs": []
    },
    {
      "cell_type": "code",
      "metadata": {
        "id": "CvJuld1p0sR-",
        "colab_type": "code",
        "colab": {}
      },
      "source": [
        "# MCTS.py\n",
        "\n",
        "def MCTS(model, iterations = 10, max_time = float('inf'), C = 1, initial = start_board(), show_progress = True):\n",
        "    # don't keep track of gradients yet\n",
        "    model.eval()\n",
        "\n",
        "    def value_function(Q, P, total_N, N):\n",
        "        return Q + C * P * sqrt((total_N+1)/(N+1))\n",
        "        # sigmoid = lambda x: exp(x) / (1+exp(x))\n",
        "        # return p * sigmoid(total_N/(N+1))\n",
        "\n",
        "    # N, W, Q, P\n",
        "    # key: str(move_history), action (tuple)\n",
        "    nodes = {}\n",
        "    # boards (for backprop)\n",
        "    # key: str(move_history)\n",
        "    boards = {}\n",
        "    # actions\n",
        "    # key: str(move_history)\n",
        "    actions = {}\n",
        "\n",
        "    # start off with no move hist\n",
        "    move_history = []\n",
        "    board, turn = initial\n",
        "\n",
        "    boards[str(move_history)] = board\n",
        "\n",
        "    # start time\n",
        "    start_time = time.time()\n",
        "\n",
        "    if show_progress:\n",
        "        loop = tqdm(total = iterations, position=0, leave=False)\n",
        "    for i in range(iterations):\n",
        "        move_history = []\n",
        "        board, turn = initial\n",
        "        # keep track of whose turn it was\n",
        "        turns = []\n",
        "        # while game not done\n",
        "        while turn != 0:\n",
        "            # populate actions if unexplored yet\n",
        "            if not actions.get(str(move_history), []):\n",
        "                actions[str(move_history)] = legal_moves(board, 1)\n",
        "                x = tensor_from_board(board, actions[str(move_history)])\n",
        "                x = x.unsqueeze(0)\n",
        "                p, v = model(x)\n",
        "                for a in actions[str(move_history)]:\n",
        "                    i, j = a\n",
        "                    # default: N = .5 (put a little weight on each possibility)\n",
        "                    #          W = 0 (total reward is equal to 0 to start)\n",
        "                    #          Q = 0 (expected reward is equal to 0 to start)\n",
        "                    #          P = calculated probability from network to start\n",
        "                    nodes[str(move_history),a] = [.5, 0, 0, p[0, i, j].item()]\n",
        "\n",
        "            # get total\n",
        "            total_N = 0\n",
        "            for a in actions[str(move_history)]:\n",
        "                N, W, Q, P = nodes[str(move_history), a]\n",
        "                total_N += N\n",
        "\n",
        "            # find next action to explore\n",
        "            max_val, max_action = -1, None\n",
        "            for a in actions[str(move_history)]:\n",
        "                N, W, Q, P = nodes[str(move_history), a]\n",
        "                # choose nodes with high Q or high P/low N\n",
        "                val = value_function(Q, P, total_N, N)\n",
        "                if val > max_val:\n",
        "                    max_val = val\n",
        "                    max_action = a\n",
        "\n",
        "            # take move\n",
        "            board, turn = move(board, 1, max_action[0], max_action[1])\n",
        "            move_history.append(max_action)\n",
        "\n",
        "            if turn != 0:\n",
        "                turns.append(turn)\n",
        "            board, turn = make_current_black(board, turn)\n",
        "            boards[str(move_history)] = board\n",
        "\n",
        "        # remove last turn (end)\n",
        "        try:\n",
        "            turns.pop()\n",
        "        except:\n",
        "            pass\n",
        "        # get reward with respect to last player\n",
        "        v = get_reward(board, 1)\n",
        "        while move_history:\n",
        "            a = move_history.pop()\n",
        "            # N += 1\n",
        "            nodes[str(move_history), a][0] += 1\n",
        "            # W += v\n",
        "            nodes[str(move_history), a][1] += v\n",
        "            # Q = (N+W) / 2 / N\n",
        "            N, W, _, _ = nodes[str(move_history), a]\n",
        "            nodes[str(move_history), a][2] = (N+W) / 2 / N\n",
        "            # if turn changes, the reward changes\n",
        "            try:\n",
        "                t = turns.pop()\n",
        "                if t == 2:\n",
        "                    v *= -1\n",
        "            except:\n",
        "                v *= -1\n",
        "                pass\n",
        "        if show_progress:\n",
        "            loop.update(1)\n",
        "        if time.time() - start_time > max_time:\n",
        "            break\n",
        "\n",
        "    return nodes, boards, actions\n",
        "\n",
        "def MCTS_action(model, initial, iterations = 500, max_time = .5, C = 1, temp = .1):\n",
        "    if initial[1] == 2:\n",
        "        initial = make_current_black(*initial)\n",
        "    nodes, boards, actions = MCTS(model, iterations, max_time, C, initial, show_progress = False)\n",
        "    # randomly select node with more explorations more often?\n",
        "    A = actions['[]']\n",
        "    p = np.zeros(len(A))\n",
        "    # populate counts\n",
        "    for i, a in enumerate(A):\n",
        "        p[i] = nodes['[]',a][0]\n",
        "    p = p ** (1/temp)\n",
        "    p *= 1/p.sum()\n",
        "    index = np.random.choice(len(A), 1, p=p)[0]\n",
        "    return A[index]\n",
        "\n",
        "# if __name__ == '__main__':\n",
        "#     model = OthelloZero(res_layers=4, channels=10)\n",
        "#     model.to(device)\n",
        "#     print('start')\n",
        "#     nodes, boards, actions = MCTS(model, 1000)\n",
        "#     X, P, V = get_objectives(nodes, boards, actions)\n",
        "#     pdb.set_trace()\n",
        "#     # pdb.set_trace()\n",
        "#     print(P[0])\n",
        "#     print(V[0])\n",
        "#     X, P, V = augment(X, P, V)\n",
        "#     print('end')"
      ],
      "execution_count": 0,
      "outputs": []
    },
    {
      "cell_type": "code",
      "metadata": {
        "id": "oKhpWNQz2P4R",
        "colab_type": "code",
        "colab": {}
      },
      "source": [
        "# RolloutDataset.py\n",
        "\n",
        "class RolloutDataset(Dataset):\n",
        "    def __init__(self, X, P, V):\n",
        "        super(RolloutDataset, self).__init__()\n",
        "        assert len(X) == len(P) and len(P) == len(V), 'Rollouts of different size'\n",
        "        self.X, self.P, self.V = X, P, V\n",
        "\n",
        "    def __getitem__(self, index):\n",
        "        return self.X[index], self.P[index], self.V[index]\n",
        "\n",
        "    def __len__(self):\n",
        "        return len(self.X)"
      ],
      "execution_count": 0,
      "outputs": []
    },
    {
      "cell_type": "code",
      "metadata": {
        "id": "Ac7k1l883GJ7",
        "colab_type": "code",
        "colab": {}
      },
      "source": [
        "# PolicyValueLoss.py\n",
        "\n",
        "class PolicyValueLoss(nn.Module):\n",
        "    def __init__(self):\n",
        "        super(PolicyValueLoss, self).__init__()\n",
        "\n",
        "    def forward(self, p_hat, v_hat, p, v):\n",
        "        value_loss = ((v_hat - v)**2).sum()\n",
        "        # torch.bmm dot product? hopefully\n",
        "        p = p.reshape(-1, 64)\n",
        "        p_hat = p.reshape(-1, 64)\n",
        "        total_loss = value_loss\n",
        "        for b, i in torch.nonzero(p_hat):\n",
        "            total_loss += -p[b,i] * torch.log(p_hat[b,i])\n",
        "        # policy_loss = -torch.bmm(p * torch.log(p_hat)).sum()\n",
        "        # return value_loss + policy_loss\n",
        "        return total_loss"
      ],
      "execution_count": 0,
      "outputs": []
    },
    {
      "cell_type": "code",
      "metadata": {
        "id": "96AiDUzB3hkp",
        "colab_type": "code",
        "colab": {}
      },
      "source": [
        "# train.py\n",
        "\n",
        "def train(params={}):\n",
        "    model = params.get('model', OthelloZero(res_layers=4, channels=10).to(device))\n",
        "    model_path = params.get('model path', os.path.join(root_path, 'model.pth'))\n",
        "    iterations = params.get('iterations', 500)\n",
        "    max_time = params.get('max time', float('inf'))\n",
        "    min_count = params.get('min count', 10)\n",
        "    num_tree_searches = params.get('num tree searches', 10)\n",
        "\n",
        "    batch_size = params.get('batch size', 8)\n",
        "    epochs = params.get('epochs', 10)\n",
        "\n",
        "    loss_function = params.get('loss function', PolicyValueLoss())\n",
        "    learning_rate = params.get('learning rate', 3e-4)\n",
        "\n",
        "    eval_every = params.get('eval every', 5)\n",
        "\n",
        "    compete_games = params.get('compete games', 400)\n",
        "\n",
        "    model1 = deepcopy(model)\n",
        "    for i in range(num_tree_searches):\n",
        "        # do tree search\n",
        "        nodes, boards, actions = MCTS(model,\n",
        "                                      iterations = iterations,\n",
        "                                      max_time = max_time)\n",
        "        # convert to goals\n",
        "        X, P, V = get_objectives(nodes, boards, actions, min_count = min_count)\n",
        "        # augment\n",
        "        # X, P, V = augment(X, P, V)\n",
        "\n",
        "        # training loaders\n",
        "        train_dataset = RolloutDataset(X, P, V)\n",
        "        train_loader = DataLoader(train_dataset,\n",
        "                                  batch_size = batch_size,\n",
        "                                  shuffle = True,\n",
        "                                  num_workers = 0)\n",
        "\n",
        "        # optimizer\n",
        "        optimizer = optim.Adam(model.parameters(), learning_rate)\n",
        "\n",
        "        # training loop\n",
        "        loop = tqdm(total = len(train_loader)*epochs, position=0, leave=False)\n",
        "        model.train()\n",
        "        losses = []\n",
        "\n",
        "        for epoch in range(epochs):\n",
        "            for batch, (x, p, v) in enumerate(train_loader):\n",
        "                x, p, v = x.to(device), p.to(device), v.to(device)\n",
        "\n",
        "                optimizer.zero_grad()\n",
        "\n",
        "                p_hat, v_hat = model(x)\n",
        "                p_hat, v_hat = p_hat.double(), v_hat.double()\n",
        "\n",
        "                loss = loss_function(p_hat, v_hat, p, v)\n",
        "                loss.backward()\n",
        "                losses.append(loss.item())\n",
        "\n",
        "                optimizer.step()\n",
        "\n",
        "                loop.update(1)\n",
        "                loop.set_description('loss:{:.3f}'.format(loss.item()))\n",
        "        plt.plot(losses)\n",
        "        plt.show()\n",
        "        print('Mean Loss: {:.3f}'.format(sum(losses)/len(losses))) \n",
        "        # TODO - save only when improves?\n",
        "        # save at end of every tree search (for now)\n",
        "        torch.save(model.state_dict(), model_path)\n",
        "        print('Saved model')\n",
        "        if (i+1)%eval_every == 0:\n",
        "            perc_win = compete(model, model1, compete_games)\n",
        "            print(f'After train: {perc_win}')\n",
        "    return model\n"
      ],
      "execution_count": 0,
      "outputs": []
    },
    {
      "cell_type": "code",
      "metadata": {
        "id": "_DnmUzJ136IU",
        "colab_type": "code",
        "outputId": "6df0e386-3ca3-42a4-bc52-237a432b0086",
        "colab": {
          "base_uri": "https://localhost:8080/",
          "height": 443
        }
      },
      "source": [
        "model_path = os.path.join(root_path, 'model.pth')\n",
        "params = {\n",
        "    'model': OthelloZero(res_layers=5, channels=16).to(device),\n",
        "    'model path': model_path,\n",
        "    'iterations': 1000,\n",
        "    'epochs': 20,\n",
        "    'num tree searches': 100,\n",
        "    'min count': 10,\n",
        "    'learning rate': 3e-4,\n",
        "    'eval every': 20,\n",
        "    'compete games': 200,\n",
        "}\n",
        "model = train(params)"
      ],
      "execution_count": 0,
      "outputs": [
        {
          "output_type": "stream",
          "text": [
            "  0%|          | 0/2260 [00:00<?, ?it/s]"
          ],
          "name": "stderr"
        },
        {
          "output_type": "stream",
          "text": [
            "> <ipython-input-29-18d091367f23>(61)train()\n",
            "-> p_hat, v_hat = p_hat.double(), v_hat.double()\n",
            "(Pdb) c\n"
          ],
          "name": "stdout"
        },
        {
          "output_type": "stream",
          "text": [
            "loss:28.817:   0%|          | 1/2260 [00:04<2:48:18,  4.47s/it]"
          ],
          "name": "stderr"
        },
        {
          "output_type": "stream",
          "text": [
            "> <ipython-input-29-18d091367f23>(60)train()\n",
            "-> pdb.set_trace()\n",
            "(Pdb) q\n"
          ],
          "name": "stdout"
        },
        {
          "output_type": "error",
          "ename": "BdbQuit",
          "evalue": "ignored",
          "traceback": [
            "\u001b[0;31m---------------------------------------------------------------------------\u001b[0m",
            "\u001b[0;31mBdbQuit\u001b[0m                                   Traceback (most recent call last)",
            "\u001b[0;32m<ipython-input-35-e84588481171>\u001b[0m in \u001b[0;36m<module>\u001b[0;34m()\u001b[0m\n\u001b[1;32m     10\u001b[0m     \u001b[0;31m# 'max time': 10,\u001b[0m\u001b[0;34m\u001b[0m\u001b[0;34m\u001b[0m\u001b[0;34m\u001b[0m\u001b[0m\n\u001b[1;32m     11\u001b[0m }\n\u001b[0;32m---> 12\u001b[0;31m \u001b[0mmodel\u001b[0m \u001b[0;34m=\u001b[0m \u001b[0mtrain\u001b[0m\u001b[0;34m(\u001b[0m\u001b[0mparams\u001b[0m\u001b[0;34m)\u001b[0m\u001b[0;34m\u001b[0m\u001b[0;34m\u001b[0m\u001b[0m\n\u001b[0m",
            "\u001b[0;32m<ipython-input-29-18d091367f23>\u001b[0m in \u001b[0;36mtrain\u001b[0;34m(params)\u001b[0m\n\u001b[1;32m     58\u001b[0m \u001b[0;34m\u001b[0m\u001b[0m\n\u001b[1;32m     59\u001b[0m                 \u001b[0mp_hat\u001b[0m\u001b[0;34m,\u001b[0m \u001b[0mv_hat\u001b[0m \u001b[0;34m=\u001b[0m \u001b[0mmodel\u001b[0m\u001b[0;34m(\u001b[0m\u001b[0mx\u001b[0m\u001b[0;34m)\u001b[0m\u001b[0;34m\u001b[0m\u001b[0;34m\u001b[0m\u001b[0m\n\u001b[0;32m---> 60\u001b[0;31m                 \u001b[0mpdb\u001b[0m\u001b[0;34m.\u001b[0m\u001b[0mset_trace\u001b[0m\u001b[0;34m(\u001b[0m\u001b[0;34m)\u001b[0m\u001b[0;34m\u001b[0m\u001b[0;34m\u001b[0m\u001b[0m\n\u001b[0m\u001b[1;32m     61\u001b[0m                 \u001b[0mp_hat\u001b[0m\u001b[0;34m,\u001b[0m \u001b[0mv_hat\u001b[0m \u001b[0;34m=\u001b[0m \u001b[0mp_hat\u001b[0m\u001b[0;34m.\u001b[0m\u001b[0mdouble\u001b[0m\u001b[0;34m(\u001b[0m\u001b[0;34m)\u001b[0m\u001b[0;34m,\u001b[0m \u001b[0mv_hat\u001b[0m\u001b[0;34m.\u001b[0m\u001b[0mdouble\u001b[0m\u001b[0;34m(\u001b[0m\u001b[0;34m)\u001b[0m\u001b[0;34m\u001b[0m\u001b[0;34m\u001b[0m\u001b[0m\n\u001b[1;32m     62\u001b[0m \u001b[0;34m\u001b[0m\u001b[0m\n",
            "\u001b[0;32m<ipython-input-29-18d091367f23>\u001b[0m in \u001b[0;36mtrain\u001b[0;34m(params)\u001b[0m\n\u001b[1;32m     58\u001b[0m \u001b[0;34m\u001b[0m\u001b[0m\n\u001b[1;32m     59\u001b[0m                 \u001b[0mp_hat\u001b[0m\u001b[0;34m,\u001b[0m \u001b[0mv_hat\u001b[0m \u001b[0;34m=\u001b[0m \u001b[0mmodel\u001b[0m\u001b[0;34m(\u001b[0m\u001b[0mx\u001b[0m\u001b[0;34m)\u001b[0m\u001b[0;34m\u001b[0m\u001b[0;34m\u001b[0m\u001b[0m\n\u001b[0;32m---> 60\u001b[0;31m                 \u001b[0mpdb\u001b[0m\u001b[0;34m.\u001b[0m\u001b[0mset_trace\u001b[0m\u001b[0;34m(\u001b[0m\u001b[0;34m)\u001b[0m\u001b[0;34m\u001b[0m\u001b[0;34m\u001b[0m\u001b[0m\n\u001b[0m\u001b[1;32m     61\u001b[0m                 \u001b[0mp_hat\u001b[0m\u001b[0;34m,\u001b[0m \u001b[0mv_hat\u001b[0m \u001b[0;34m=\u001b[0m \u001b[0mp_hat\u001b[0m\u001b[0;34m.\u001b[0m\u001b[0mdouble\u001b[0m\u001b[0;34m(\u001b[0m\u001b[0;34m)\u001b[0m\u001b[0;34m,\u001b[0m \u001b[0mv_hat\u001b[0m\u001b[0;34m.\u001b[0m\u001b[0mdouble\u001b[0m\u001b[0;34m(\u001b[0m\u001b[0;34m)\u001b[0m\u001b[0;34m\u001b[0m\u001b[0;34m\u001b[0m\u001b[0m\n\u001b[1;32m     62\u001b[0m \u001b[0;34m\u001b[0m\u001b[0m\n",
            "\u001b[0;32m/usr/lib/python3.6/bdb.py\u001b[0m in \u001b[0;36mtrace_dispatch\u001b[0;34m(self, frame, event, arg)\u001b[0m\n\u001b[1;32m     49\u001b[0m             \u001b[0;32mreturn\u001b[0m \u001b[0;31m# None\u001b[0m\u001b[0;34m\u001b[0m\u001b[0;34m\u001b[0m\u001b[0m\n\u001b[1;32m     50\u001b[0m         \u001b[0;32mif\u001b[0m \u001b[0mevent\u001b[0m \u001b[0;34m==\u001b[0m \u001b[0;34m'line'\u001b[0m\u001b[0;34m:\u001b[0m\u001b[0;34m\u001b[0m\u001b[0;34m\u001b[0m\u001b[0m\n\u001b[0;32m---> 51\u001b[0;31m             \u001b[0;32mreturn\u001b[0m \u001b[0mself\u001b[0m\u001b[0;34m.\u001b[0m\u001b[0mdispatch_line\u001b[0m\u001b[0;34m(\u001b[0m\u001b[0mframe\u001b[0m\u001b[0;34m)\u001b[0m\u001b[0;34m\u001b[0m\u001b[0;34m\u001b[0m\u001b[0m\n\u001b[0m\u001b[1;32m     52\u001b[0m         \u001b[0;32mif\u001b[0m \u001b[0mevent\u001b[0m \u001b[0;34m==\u001b[0m \u001b[0;34m'call'\u001b[0m\u001b[0;34m:\u001b[0m\u001b[0;34m\u001b[0m\u001b[0;34m\u001b[0m\u001b[0m\n\u001b[1;32m     53\u001b[0m             \u001b[0;32mreturn\u001b[0m \u001b[0mself\u001b[0m\u001b[0;34m.\u001b[0m\u001b[0mdispatch_call\u001b[0m\u001b[0;34m(\u001b[0m\u001b[0mframe\u001b[0m\u001b[0;34m,\u001b[0m \u001b[0marg\u001b[0m\u001b[0;34m)\u001b[0m\u001b[0;34m\u001b[0m\u001b[0;34m\u001b[0m\u001b[0m\n",
            "\u001b[0;32m/usr/lib/python3.6/bdb.py\u001b[0m in \u001b[0;36mdispatch_line\u001b[0;34m(self, frame)\u001b[0m\n\u001b[1;32m     68\u001b[0m         \u001b[0;32mif\u001b[0m \u001b[0mself\u001b[0m\u001b[0;34m.\u001b[0m\u001b[0mstop_here\u001b[0m\u001b[0;34m(\u001b[0m\u001b[0mframe\u001b[0m\u001b[0;34m)\u001b[0m \u001b[0;32mor\u001b[0m \u001b[0mself\u001b[0m\u001b[0;34m.\u001b[0m\u001b[0mbreak_here\u001b[0m\u001b[0;34m(\u001b[0m\u001b[0mframe\u001b[0m\u001b[0;34m)\u001b[0m\u001b[0;34m:\u001b[0m\u001b[0;34m\u001b[0m\u001b[0;34m\u001b[0m\u001b[0m\n\u001b[1;32m     69\u001b[0m             \u001b[0mself\u001b[0m\u001b[0;34m.\u001b[0m\u001b[0muser_line\u001b[0m\u001b[0;34m(\u001b[0m\u001b[0mframe\u001b[0m\u001b[0;34m)\u001b[0m\u001b[0;34m\u001b[0m\u001b[0;34m\u001b[0m\u001b[0m\n\u001b[0;32m---> 70\u001b[0;31m             \u001b[0;32mif\u001b[0m \u001b[0mself\u001b[0m\u001b[0;34m.\u001b[0m\u001b[0mquitting\u001b[0m\u001b[0;34m:\u001b[0m \u001b[0;32mraise\u001b[0m \u001b[0mBdbQuit\u001b[0m\u001b[0;34m\u001b[0m\u001b[0;34m\u001b[0m\u001b[0m\n\u001b[0m\u001b[1;32m     71\u001b[0m         \u001b[0;32mreturn\u001b[0m \u001b[0mself\u001b[0m\u001b[0;34m.\u001b[0m\u001b[0mtrace_dispatch\u001b[0m\u001b[0;34m\u001b[0m\u001b[0;34m\u001b[0m\u001b[0m\n\u001b[1;32m     72\u001b[0m \u001b[0;34m\u001b[0m\u001b[0m\n",
            "\u001b[0;31mBdbQuit\u001b[0m: "
          ]
        }
      ]
    },
    {
      "cell_type": "code",
      "metadata": {
        "id": "LMgsBtnl39Lj",
        "colab_type": "code",
        "outputId": "ffe1a1df-f25a-4024-acd4-bc3b52f1ff57",
        "colab": {
          "base_uri": "https://localhost:8080/",
          "height": 1000
        }
      },
      "source": [
        "from copy import deepcopy\n",
        "# hyperparam search\n",
        "params1 = {\n",
        "    'model': OthelloZero(res_layers=5, channels=16).to(device),\n",
        "    'model path': os.path.join(root_path, 'model1.pth'),\n",
        "    'iterations': 1000,\n",
        "    'epochs': 20,\n",
        "    'num tree searches': 10,\n",
        "    'min count': 10,\n",
        "    'learning rate': 3e-4,\n",
        "    'eval every': 10,\n",
        "    'compete games': 200,\n",
        "}\n",
        "\n",
        "params2 = deepcopy(params1)\n",
        "params2['min count'] = 5\n",
        "params2['model path'] = os.path.join(root_path, 'model2.pth')\n",
        "\n",
        "params3 = deepcopy(params1)\n",
        "params3['iterations'] = 1500\n",
        "params3['model path'] = os.path.join(root_path, 'model3.pth')\n",
        "\n",
        "print('\\n\\n\\tMODEL 1 \\n')\n",
        "model1 = train(params1)\n",
        "print('\\n\\n\\tMODEL 2 \\n')\n",
        "model2 = train(params2)\n",
        "print('\\n\\n\\tMODEL 3 \\n')\n",
        "model3 = train(params3)"
      ],
      "execution_count": 0,
      "outputs": [
        {
          "output_type": "stream",
          "text": [
            "\r  0%|          | 0/1000 [00:00<?, ?it/s]"
          ],
          "name": "stderr"
        },
        {
          "output_type": "stream",
          "text": [
            "\n",
            "\n",
            "\tMODEL 1 \n",
            "\n"
          ],
          "name": "stdout"
        },
        {
          "output_type": "stream",
          "text": [
            "loss:6.018: 100%|██████████| 2520/2520 [01:54<00:00, 22.94it/s]"
          ],
          "name": "stderr"
        },
        {
          "output_type": "display_data",
          "data": {
            "image/png": "[encoded data removed]",
            "text/plain": [
              "<Figure size 432x288 with 1 Axes>"
            ]
          },
          "metadata": {
            "tags": []
          }
        },
        {
          "output_type": "stream",
          "text": [
            "\r  0%|          | 0/1000 [00:00<?, ?it/s]"
          ],
          "name": "stderr"
        },
        {
          "output_type": "stream",
          "text": [
            "Mean Loss: 13.176\n",
            "Saved model\n"
          ],
          "name": "stdout"
        },
        {
          "output_type": "stream",
          "text": [
            "loss:15.695: 100%|██████████| 2940/2940 [02:25<00:00, 20.20it/s]"
          ],
          "name": "stderr"
        },
        {
          "output_type": "display_data",
          "data": {
            "image/png": "[encoded data removed]",
            "text/plain": [
              "<Figure size 432x288 with 1 Axes>"
            ]
          },
          "metadata": {
            "tags": []
          }
        },
        {
          "output_type": "stream",
          "text": [
            "\r  0%|          | 0/1000 [00:00<?, ?it/s]"
          ],
          "name": "stderr"
        },
        {
          "output_type": "stream",
          "text": [
            "Mean Loss: 15.185\n",
            "Saved model\n"
          ],
          "name": "stdout"
        },
        {
          "output_type": "stream",
          "text": [
            "loss:11.782: 100%|██████████| 3240/3240 [02:37<00:00, 20.09it/s]"
          ],
          "name": "stderr"
        },
        {
          "output_type": "display_data",
          "data": {
            "image/png": "[encoded data removed]",
            "text/plain": [
              "<Figure size 432x288 with 1 Axes>"
            ]
          },
          "metadata": {
            "tags": []
          }
        },
        {
          "output_type": "stream",
          "text": [
            "\r  0%|          | 0/1000 [00:00<?, ?it/s]"
          ],
          "name": "stderr"
        },
        {
          "output_type": "stream",
          "text": [
            "Mean Loss: 14.156\n",
            "Saved model\n"
          ],
          "name": "stdout"
        },
        {
          "output_type": "stream",
          "text": [
            "loss:6.839: 100%|██████████| 3520/3520 [02:57<00:00, 21.26it/s] "
          ],
          "name": "stderr"
        },
        {
          "output_type": "display_data",
          "data": {
            "image/png": "[encoded data removed]",
            "text/plain": [
              "<Figure size 432x288 with 1 Axes>"
            ]
          },
          "metadata": {
            "tags": []
          }
        },
        {
          "output_type": "stream",
          "text": [
            "\r  0%|          | 0/1000 [00:00<?, ?it/s]"
          ],
          "name": "stderr"
        },
        {
          "output_type": "stream",
          "text": [
            "Mean Loss: 15.840\n",
            "Saved model\n"
          ],
          "name": "stdout"
        },
        {
          "output_type": "stream",
          "text": [
            "loss:4.615: 100%|██████████| 3280/3280 [02:41<00:00, 20.63it/s] "
          ],
          "name": "stderr"
        },
        {
          "output_type": "display_data",
          "data": {
            "image/png": "[encoded data removed]",
            "text/plain": [
              "<Figure size 432x288 with 1 Axes>"
            ]
          },
          "metadata": {
            "tags": []
          }
        },
        {
          "output_type": "stream",
          "text": [
            "\r  0%|          | 0/1000 [00:00<?, ?it/s]"
          ],
          "name": "stderr"
        },
        {
          "output_type": "stream",
          "text": [
            "Mean Loss: 14.451\n",
            "Saved model\n"
          ],
          "name": "stdout"
        },
        {
          "output_type": "stream",
          "text": [
            "loss:2.951: 100%|██████████| 2700/2700 [02:12<00:00, 20.52it/s] "
          ],
          "name": "stderr"
        },
        {
          "output_type": "display_data",
          "data": {
            "image/png": "[encoded data removed]",
            "text/plain": [
              "<Figure size 432x288 with 1 Axes>"
            ]
          },
          "metadata": {
            "tags": []
          }
        },
        {
          "output_type": "stream",
          "text": [
            "\r  0%|          | 0/1000 [00:00<?, ?it/s]"
          ],
          "name": "stderr"
        },
        {
          "output_type": "stream",
          "text": [
            "Mean Loss: 15.092\n",
            "Saved model\n"
          ],
          "name": "stdout"
        },
        {
          "output_type": "stream",
          "text": [
            "loss:5.545: 100%|██████████| 2740/2740 [02:12<00:00, 19.88it/s] "
          ],
          "name": "stderr"
        },
        {
          "output_type": "display_data",
          "data": {
            "image/png": "[encoded data removed]",
            "text/plain": [
              "<Figure size 432x288 with 1 Axes>"
            ]
          },
          "metadata": {
            "tags": []
          }
        },
        {
          "output_type": "stream",
          "text": [
            "\r  0%|          | 0/1000 [00:00<?, ?it/s]"
          ],
          "name": "stderr"
        },
        {
          "output_type": "stream",
          "text": [
            "Mean Loss: 15.779\n",
            "Saved model\n"
          ],
          "name": "stdout"
        },
        {
          "output_type": "stream",
          "text": [
            "loss:6.420: 100%|██████████| 3180/3180 [02:38<00:00, 19.26it/s] "
          ],
          "name": "stderr"
        },
        {
          "output_type": "display_data",
          "data": {
            "image/png": "[encoded data removed]",
            "text/plain": [
              "<Figure size 432x288 with 1 Axes>"
            ]
          },
          "metadata": {
            "tags": []
          }
        },
        {
          "output_type": "stream",
          "text": [
            "\r  0%|          | 0/1000 [00:00<?, ?it/s]"
          ],
          "name": "stderr"
        },
        {
          "output_type": "stream",
          "text": [
            "Mean Loss: 16.637\n",
            "Saved model\n"
          ],
          "name": "stdout"
        },
        {
          "output_type": "stream",
          "text": [
            "loss:5.486: 100%|██████████| 3520/3520 [03:03<00:00, 19.45it/s] "
          ],
          "name": "stderr"
        },
        {
          "output_type": "display_data",
          "data": {
            "image/png": "[encoded data removed]",
            "text/plain": [
              "<Figure size 432x288 with 1 Axes>"
            ]
          },
          "metadata": {
            "tags": []
          }
        },
        {
          "output_type": "stream",
          "text": [
            "\r  0%|          | 0/1000 [00:00<?, ?it/s]"
          ],
          "name": "stderr"
        },
        {
          "output_type": "stream",
          "text": [
            "Mean Loss: 16.267\n",
            "Saved model\n"
          ],
          "name": "stdout"
        },
        {
          "output_type": "stream",
          "text": [
            "loss:2.318: 100%|██████████| 4160/4160 [03:29<00:00, 23.75it/s] "
          ],
          "name": "stderr"
        },
        {
          "output_type": "display_data",
          "data": {
            "image/png": "[encoded data removed]",
            "text/plain": [
              "<Figure size 432x288 with 1 Axes>"
            ]
          },
          "metadata": {
            "tags": []
          }
        },
        {
          "output_type": "stream",
          "text": [
            "\r  0%|          | 0/200 [00:00<?, ?it/s]"
          ],
          "name": "stderr"
        },
        {
          "output_type": "stream",
          "text": [
            "Mean Loss: 15.515\n",
            "Saved model\n"
          ],
          "name": "stdout"
        },
        {
          "output_type": "stream",
          "text": [
            "perc:0.531:  49%|████▉     | 98/200 [54:07<56:35, 33.29s/it]"
          ],
          "name": "stderr"
        }
      ]
    },
    {
      "cell_type": "code",
      "metadata": {
        "id": "ZMaj9wHvBh14",
        "colab_type": "code",
        "outputId": "8370fa97-0f5b-4a85-9061-dd8de3b2fce3",
        "colab": {
          "base_uri": "https://localhost:8080/",
          "height": 1000
        }
      },
      "source": [
        ""
      ],
      "execution_count": 0,
      "outputs": [
        {
          "output_type": "execute_result",
          "data": {
            "text/plain": [
              "{'epochs': 20,\n",
              " 'eval every': 10,\n",
              " 'iterations': 2000,\n",
              " 'learning rate': 0.0003,\n",
              " 'min count': 10,\n",
              " 'model': OthelloZero(\n",
              "   (convlayer): Sequential(\n",
              "     (0): Conv2d(2, 16, kernel_size=(3, 3), stride=(1, 1), padding=(1, 1))\n",
              "     (1): ReLU()\n",
              "   )\n",
              "   (res_blocks): ModuleList(\n",
              "     (0): ResBlock(\n",
              "       (conv1): Conv2d(16, 16, kernel_size=(3, 3), stride=(1, 1), padding=(1, 1))\n",
              "       (relu1): ReLU()\n",
              "       (batchnorm1): BatchNorm2d(16, eps=1e-05, momentum=0.1, affine=True, track_running_stats=True)\n",
              "       (conv2): Conv2d(16, 16, kernel_size=(3, 3), stride=(1, 1), padding=(1, 1))\n",
              "       (batchnorm2): BatchNorm2d(16, eps=1e-05, momentum=0.1, affine=True, track_running_stats=True)\n",
              "       (relu2): ReLU()\n",
              "     )\n",
              "     (1): ResBlock(\n",
              "       (conv1): Conv2d(16, 16, kernel_size=(3, 3), stride=(1, 1), padding=(1, 1))\n",
              "       (relu1): ReLU()\n",
              "       (batchnorm1): BatchNorm2d(16, eps=1e-05, momentum=0.1, affine=True, track_running_stats=True)\n",
              "       (conv2): Conv2d(16, 16, kernel_size=(3, 3), stride=(1, 1), padding=(1, 1))\n",
              "       (batchnorm2): BatchNorm2d(16, eps=1e-05, momentum=0.1, affine=True, track_running_stats=True)\n",
              "       (relu2): ReLU()\n",
              "     )\n",
              "     (2): ResBlock(\n",
              "       (conv1): Conv2d(16, 16, kernel_size=(3, 3), stride=(1, 1), padding=(1, 1))\n",
              "       (relu1): ReLU()\n",
              "       (batchnorm1): BatchNorm2d(16, eps=1e-05, momentum=0.1, affine=True, track_running_stats=True)\n",
              "       (conv2): Conv2d(16, 16, kernel_size=(3, 3), stride=(1, 1), padding=(1, 1))\n",
              "       (batchnorm2): BatchNorm2d(16, eps=1e-05, momentum=0.1, affine=True, track_running_stats=True)\n",
              "       (relu2): ReLU()\n",
              "     )\n",
              "     (3): ResBlock(\n",
              "       (conv1): Conv2d(16, 16, kernel_size=(3, 3), stride=(1, 1), padding=(1, 1))\n",
              "       (relu1): ReLU()\n",
              "       (batchnorm1): BatchNorm2d(16, eps=1e-05, momentum=0.1, affine=True, track_running_stats=True)\n",
              "       (conv2): Conv2d(16, 16, kernel_size=(3, 3), stride=(1, 1), padding=(1, 1))\n",
              "       (batchnorm2): BatchNorm2d(16, eps=1e-05, momentum=0.1, affine=True, track_running_stats=True)\n",
              "       (relu2): ReLU()\n",
              "     )\n",
              "     (4): ResBlock(\n",
              "       (conv1): Conv2d(16, 16, kernel_size=(3, 3), stride=(1, 1), padding=(1, 1))\n",
              "       (relu1): ReLU()\n",
              "       (batchnorm1): BatchNorm2d(16, eps=1e-05, momentum=0.1, affine=True, track_running_stats=True)\n",
              "       (conv2): Conv2d(16, 16, kernel_size=(3, 3), stride=(1, 1), padding=(1, 1))\n",
              "       (batchnorm2): BatchNorm2d(16, eps=1e-05, momentum=0.1, affine=True, track_running_stats=True)\n",
              "       (relu2): ReLU()\n",
              "     )\n",
              "   )\n",
              "   (policy_head): PolicyHead(\n",
              "     (conv): Conv2d(16, 2, kernel_size=(1, 1), stride=(1, 1))\n",
              "     (batchnorm): BatchNorm2d(2, eps=1e-05, momentum=0.1, affine=True, track_running_stats=True)\n",
              "     (relu): ReLU()\n",
              "     (fc): Linear(in_features=128, out_features=64, bias=True)\n",
              "   )\n",
              "   (value_head): ValueHead(\n",
              "     (conv): Conv2d(16, 1, kernel_size=(1, 1), stride=(1, 1))\n",
              "     (batchnorm): BatchNorm2d(1, eps=1e-05, momentum=0.1, affine=True, track_running_stats=True)\n",
              "     (relu1): ReLU()\n",
              "     (fcc1): Linear(in_features=64, out_features=64, bias=True)\n",
              "     (relu2): ReLU()\n",
              "     (fcc2): Linear(in_features=64, out_features=1, bias=True)\n",
              "     (tanh): Tanh()\n",
              "   )\n",
              " ),\n",
              " 'model path': 'gdrive/My Drive/OthelloData/model.pth',\n",
              " 'num tree searches': 10}"
            ]
          },
          "metadata": {
            "tags": []
          },
          "execution_count": 41
        }
      ]
    },
    {
      "cell_type": "code",
      "metadata": {
        "id": "hDHw2RJ_d-1b",
        "colab_type": "code",
        "outputId": "8bce8243-314a-4090-e450-8e61881ce5f7",
        "colab": {
          "base_uri": "https://localhost:8080/",
          "height": 409
        }
      },
      "source": [
        ""
      ],
      "execution_count": 0,
      "outputs": [
        {
          "output_type": "stream",
          "text": [
            "  0%|          | 0/10 [00:00<?, ?it/s]"
          ],
          "name": "stderr"
        },
        {
          "output_type": "stream",
          "text": [
            "> <ipython-input-29-18d091367f23>(61)train()\n",
            "-> p_hat, v_hat = p_hat.double(), v_hat.double()\n",
            "(Pdb) same(model, model3, x)\n",
            "True\n",
            "(Pdb) q\n"
          ],
          "name": "stdout"
        },
        {
          "output_type": "error",
          "ename": "BdbQuit",
          "evalue": "ignored",
          "traceback": [
            "\u001b[0;31m---------------------------------------------------------------------------\u001b[0m",
            "\u001b[0;31mBdbQuit\u001b[0m                                   Traceback (most recent call last)",
            "\u001b[0;32m<ipython-input-32-f2a2e746f110>\u001b[0m in \u001b[0;36m<module>\u001b[0;34m()\u001b[0m\n\u001b[1;32m      1\u001b[0m train({'model': model,\n\u001b[0;32m----> 2\u001b[0;31m        'iterations': 10})\n\u001b[0m",
            "\u001b[0;32m<ipython-input-29-18d091367f23>\u001b[0m in \u001b[0;36mtrain\u001b[0;34m(params)\u001b[0m\n\u001b[1;32m     59\u001b[0m                 \u001b[0mp_hat\u001b[0m\u001b[0;34m,\u001b[0m \u001b[0mv_hat\u001b[0m \u001b[0;34m=\u001b[0m \u001b[0mmodel\u001b[0m\u001b[0;34m(\u001b[0m\u001b[0mx\u001b[0m\u001b[0;34m)\u001b[0m\u001b[0;34m\u001b[0m\u001b[0;34m\u001b[0m\u001b[0m\n\u001b[1;32m     60\u001b[0m                 \u001b[0mpdb\u001b[0m\u001b[0;34m.\u001b[0m\u001b[0mset_trace\u001b[0m\u001b[0;34m(\u001b[0m\u001b[0;34m)\u001b[0m\u001b[0;34m\u001b[0m\u001b[0;34m\u001b[0m\u001b[0m\n\u001b[0;32m---> 61\u001b[0;31m                 \u001b[0mp_hat\u001b[0m\u001b[0;34m,\u001b[0m \u001b[0mv_hat\u001b[0m \u001b[0;34m=\u001b[0m \u001b[0mp_hat\u001b[0m\u001b[0;34m.\u001b[0m\u001b[0mdouble\u001b[0m\u001b[0;34m(\u001b[0m\u001b[0;34m)\u001b[0m\u001b[0;34m,\u001b[0m \u001b[0mv_hat\u001b[0m\u001b[0;34m.\u001b[0m\u001b[0mdouble\u001b[0m\u001b[0;34m(\u001b[0m\u001b[0;34m)\u001b[0m\u001b[0;34m\u001b[0m\u001b[0;34m\u001b[0m\u001b[0m\n\u001b[0m\u001b[1;32m     62\u001b[0m \u001b[0;34m\u001b[0m\u001b[0m\n\u001b[1;32m     63\u001b[0m                 \u001b[0mloss\u001b[0m \u001b[0;34m=\u001b[0m \u001b[0mloss_function\u001b[0m\u001b[0;34m(\u001b[0m\u001b[0mp_hat\u001b[0m\u001b[0;34m,\u001b[0m \u001b[0mv_hat\u001b[0m\u001b[0;34m,\u001b[0m \u001b[0mp\u001b[0m\u001b[0;34m,\u001b[0m \u001b[0mv\u001b[0m\u001b[0;34m)\u001b[0m\u001b[0;34m\u001b[0m\u001b[0;34m\u001b[0m\u001b[0m\n",
            "\u001b[0;32m<ipython-input-29-18d091367f23>\u001b[0m in \u001b[0;36mtrain\u001b[0;34m(params)\u001b[0m\n\u001b[1;32m     59\u001b[0m                 \u001b[0mp_hat\u001b[0m\u001b[0;34m,\u001b[0m \u001b[0mv_hat\u001b[0m \u001b[0;34m=\u001b[0m \u001b[0mmodel\u001b[0m\u001b[0;34m(\u001b[0m\u001b[0mx\u001b[0m\u001b[0;34m)\u001b[0m\u001b[0;34m\u001b[0m\u001b[0;34m\u001b[0m\u001b[0m\n\u001b[1;32m     60\u001b[0m                 \u001b[0mpdb\u001b[0m\u001b[0;34m.\u001b[0m\u001b[0mset_trace\u001b[0m\u001b[0;34m(\u001b[0m\u001b[0;34m)\u001b[0m\u001b[0;34m\u001b[0m\u001b[0;34m\u001b[0m\u001b[0m\n\u001b[0;32m---> 61\u001b[0;31m                 \u001b[0mp_hat\u001b[0m\u001b[0;34m,\u001b[0m \u001b[0mv_hat\u001b[0m \u001b[0;34m=\u001b[0m \u001b[0mp_hat\u001b[0m\u001b[0;34m.\u001b[0m\u001b[0mdouble\u001b[0m\u001b[0;34m(\u001b[0m\u001b[0;34m)\u001b[0m\u001b[0;34m,\u001b[0m \u001b[0mv_hat\u001b[0m\u001b[0;34m.\u001b[0m\u001b[0mdouble\u001b[0m\u001b[0;34m(\u001b[0m\u001b[0;34m)\u001b[0m\u001b[0;34m\u001b[0m\u001b[0;34m\u001b[0m\u001b[0m\n\u001b[0m\u001b[1;32m     62\u001b[0m \u001b[0;34m\u001b[0m\u001b[0m\n\u001b[1;32m     63\u001b[0m                 \u001b[0mloss\u001b[0m \u001b[0;34m=\u001b[0m \u001b[0mloss_function\u001b[0m\u001b[0;34m(\u001b[0m\u001b[0mp_hat\u001b[0m\u001b[0;34m,\u001b[0m \u001b[0mv_hat\u001b[0m\u001b[0;34m,\u001b[0m \u001b[0mp\u001b[0m\u001b[0;34m,\u001b[0m \u001b[0mv\u001b[0m\u001b[0;34m)\u001b[0m\u001b[0;34m\u001b[0m\u001b[0;34m\u001b[0m\u001b[0m\n",
            "\u001b[0;32m/usr/lib/python3.6/bdb.py\u001b[0m in \u001b[0;36mtrace_dispatch\u001b[0;34m(self, frame, event, arg)\u001b[0m\n\u001b[1;32m     49\u001b[0m             \u001b[0;32mreturn\u001b[0m \u001b[0;31m# None\u001b[0m\u001b[0;34m\u001b[0m\u001b[0;34m\u001b[0m\u001b[0m\n\u001b[1;32m     50\u001b[0m         \u001b[0;32mif\u001b[0m \u001b[0mevent\u001b[0m \u001b[0;34m==\u001b[0m \u001b[0;34m'line'\u001b[0m\u001b[0;34m:\u001b[0m\u001b[0;34m\u001b[0m\u001b[0;34m\u001b[0m\u001b[0m\n\u001b[0;32m---> 51\u001b[0;31m             \u001b[0;32mreturn\u001b[0m \u001b[0mself\u001b[0m\u001b[0;34m.\u001b[0m\u001b[0mdispatch_line\u001b[0m\u001b[0;34m(\u001b[0m\u001b[0mframe\u001b[0m\u001b[0;34m)\u001b[0m\u001b[0;34m\u001b[0m\u001b[0;34m\u001b[0m\u001b[0m\n\u001b[0m\u001b[1;32m     52\u001b[0m         \u001b[0;32mif\u001b[0m \u001b[0mevent\u001b[0m \u001b[0;34m==\u001b[0m \u001b[0;34m'call'\u001b[0m\u001b[0;34m:\u001b[0m\u001b[0;34m\u001b[0m\u001b[0;34m\u001b[0m\u001b[0m\n\u001b[1;32m     53\u001b[0m             \u001b[0;32mreturn\u001b[0m \u001b[0mself\u001b[0m\u001b[0;34m.\u001b[0m\u001b[0mdispatch_call\u001b[0m\u001b[0;34m(\u001b[0m\u001b[0mframe\u001b[0m\u001b[0;34m,\u001b[0m \u001b[0marg\u001b[0m\u001b[0;34m)\u001b[0m\u001b[0;34m\u001b[0m\u001b[0;34m\u001b[0m\u001b[0m\n",
            "\u001b[0;32m/usr/lib/python3.6/bdb.py\u001b[0m in \u001b[0;36mdispatch_line\u001b[0;34m(self, frame)\u001b[0m\n\u001b[1;32m     68\u001b[0m         \u001b[0;32mif\u001b[0m \u001b[0mself\u001b[0m\u001b[0;34m.\u001b[0m\u001b[0mstop_here\u001b[0m\u001b[0;34m(\u001b[0m\u001b[0mframe\u001b[0m\u001b[0;34m)\u001b[0m \u001b[0;32mor\u001b[0m \u001b[0mself\u001b[0m\u001b[0;34m.\u001b[0m\u001b[0mbreak_here\u001b[0m\u001b[0;34m(\u001b[0m\u001b[0mframe\u001b[0m\u001b[0;34m)\u001b[0m\u001b[0;34m:\u001b[0m\u001b[0;34m\u001b[0m\u001b[0;34m\u001b[0m\u001b[0m\n\u001b[1;32m     69\u001b[0m             \u001b[0mself\u001b[0m\u001b[0;34m.\u001b[0m\u001b[0muser_line\u001b[0m\u001b[0;34m(\u001b[0m\u001b[0mframe\u001b[0m\u001b[0;34m)\u001b[0m\u001b[0;34m\u001b[0m\u001b[0;34m\u001b[0m\u001b[0m\n\u001b[0;32m---> 70\u001b[0;31m             \u001b[0;32mif\u001b[0m \u001b[0mself\u001b[0m\u001b[0;34m.\u001b[0m\u001b[0mquitting\u001b[0m\u001b[0;34m:\u001b[0m \u001b[0;32mraise\u001b[0m \u001b[0mBdbQuit\u001b[0m\u001b[0;34m\u001b[0m\u001b[0;34m\u001b[0m\u001b[0m\n\u001b[0m\u001b[1;32m     71\u001b[0m         \u001b[0;32mreturn\u001b[0m \u001b[0mself\u001b[0m\u001b[0;34m.\u001b[0m\u001b[0mtrace_dispatch\u001b[0m\u001b[0;34m\u001b[0m\u001b[0;34m\u001b[0m\u001b[0m\n\u001b[1;32m     72\u001b[0m \u001b[0;34m\u001b[0m\u001b[0m\n",
            "\u001b[0;31mBdbQuit\u001b[0m: "
          ]
        }
      ]
    },
    {
      "cell_type": "code",
      "metadata": {
        "id": "HCgG5EK3eG_W",
        "colab_type": "code",
        "colab": {}
      },
      "source": [
        ""
      ],
      "execution_count": 0,
      "outputs": []
    }
  ]
}